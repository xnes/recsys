{
 "cells": [
  {
   "cell_type": "code",
   "execution_count": 594,
   "metadata": {},
   "outputs": [],
   "source": [
    "import pandas as pd\n",
    "import IPython.display as disp\n",
    "import requests\n",
    "import math\n",
    "import re\n",
    "from sklearn.feature_extraction.text import TfidfVectorizer\n",
    "import numpy as np\n",
    "from scipy import spatial  #distancia: cosseno\n",
    "from scipy.sparse import csc_matrix #matrix esparsa usada pros vetores\n",
    "from numpy import dot\n",
    "from numpy.linalg import norm\n",
    "from colorama import Fore, Back, Style       #prints coloridos e estilizados\n",
    "\n",
    "def print_destaque(texto):\n",
    "    print(Back.BLUE + Fore.LIGHTYELLOW_EX+ f' {texto} ')\n",
    "    print(Style.RESET_ALL)"
   ]
  },
  {
   "attachments": {},
   "cell_type": "markdown",
   "metadata": {},
   "source": [
    "## carregar ratings"
   ]
  },
  {
   "cell_type": "code",
   "execution_count": 32,
   "metadata": {},
   "outputs": [
    {
     "data": {
      "text/html": [
       "<div>\n",
       "<style scoped>\n",
       "    .dataframe tbody tr th:only-of-type {\n",
       "        vertical-align: middle;\n",
       "    }\n",
       "\n",
       "    .dataframe tbody tr th {\n",
       "        vertical-align: top;\n",
       "    }\n",
       "\n",
       "    .dataframe thead th {\n",
       "        text-align: right;\n",
       "    }\n",
       "</style>\n",
       "<table border=\"1\" class=\"dataframe\">\n",
       "  <thead>\n",
       "    <tr style=\"text-align: right;\">\n",
       "      <th></th>\n",
       "      <th>userId</th>\n",
       "      <th>movieId</th>\n",
       "      <th>rating</th>\n",
       "    </tr>\n",
       "  </thead>\n",
       "  <tbody>\n",
       "    <tr>\n",
       "      <th>0</th>\n",
       "      <td>1</td>\n",
       "      <td>296</td>\n",
       "      <td>5.0</td>\n",
       "    </tr>\n",
       "    <tr>\n",
       "      <th>1</th>\n",
       "      <td>1</td>\n",
       "      <td>306</td>\n",
       "      <td>3.5</td>\n",
       "    </tr>\n",
       "    <tr>\n",
       "      <th>2</th>\n",
       "      <td>1</td>\n",
       "      <td>307</td>\n",
       "      <td>5.0</td>\n",
       "    </tr>\n",
       "  </tbody>\n",
       "</table>\n",
       "</div>"
      ],
      "text/plain": [
       "   userId  movieId  rating\n",
       "0       1      296     5.0\n",
       "1       1      306     3.5\n",
       "2       1      307     5.0"
      ]
     },
     "metadata": {},
     "output_type": "display_data"
    },
    {
     "name": "stdout",
     "output_type": "stream",
     "text": [
      "Temos na base principal 162541 usuários\n"
     ]
    }
   ],
   "source": [
    "ratings = pd.read_csv('ratings.csv')\n",
    "ratings = ratings.drop('timestamp', axis=1)     #remover a coluna timestamp. Informação irrelevante\n",
    "disp.display(ratings.head(3))\n",
    "print(f'Temos na base principal {len(ratings.userId.unique())} usuários')"
   ]
  },
  {
   "cell_type": "markdown",
   "metadata": {},
   "source": [
    "## carregar sinopses e retirar ratings de filmes sem sinopses"
   ]
  },
  {
   "cell_type": "code",
   "execution_count": 65,
   "metadata": {},
   "outputs": [
    {
     "data": {
      "text/html": [
       "<div>\n",
       "<style scoped>\n",
       "    .dataframe tbody tr th:only-of-type {\n",
       "        vertical-align: middle;\n",
       "    }\n",
       "\n",
       "    .dataframe tbody tr th {\n",
       "        vertical-align: top;\n",
       "    }\n",
       "\n",
       "    .dataframe thead th {\n",
       "        text-align: right;\n",
       "    }\n",
       "</style>\n",
       "<table border=\"1\" class=\"dataframe\">\n",
       "  <thead>\n",
       "    <tr style=\"text-align: right;\">\n",
       "      <th></th>\n",
       "      <th>userId</th>\n",
       "      <th>movieId</th>\n",
       "      <th>rating</th>\n",
       "    </tr>\n",
       "  </thead>\n",
       "  <tbody>\n",
       "    <tr>\n",
       "      <th>24999913</th>\n",
       "      <td>162541</td>\n",
       "      <td>29</td>\n",
       "      <td>5.0</td>\n",
       "    </tr>\n",
       "    <tr>\n",
       "      <th>24999914</th>\n",
       "      <td>162541</td>\n",
       "      <td>32</td>\n",
       "      <td>5.0</td>\n",
       "    </tr>\n",
       "    <tr>\n",
       "      <th>24999916</th>\n",
       "      <td>162541</td>\n",
       "      <td>50</td>\n",
       "      <td>5.0</td>\n",
       "    </tr>\n",
       "    <tr>\n",
       "      <th>24999923</th>\n",
       "      <td>162541</td>\n",
       "      <td>260</td>\n",
       "      <td>5.0</td>\n",
       "    </tr>\n",
       "    <tr>\n",
       "      <th>24999935</th>\n",
       "      <td>162541</td>\n",
       "      <td>541</td>\n",
       "      <td>5.0</td>\n",
       "    </tr>\n",
       "  </tbody>\n",
       "</table>\n",
       "</div>"
      ],
      "text/plain": [
       "          userId  movieId  rating\n",
       "24999913  162541       29     5.0\n",
       "24999914  162541       32     5.0\n",
       "24999916  162541       50     5.0\n",
       "24999923  162541      260     5.0\n",
       "24999935  162541      541     5.0"
      ]
     },
     "execution_count": 65,
     "metadata": {},
     "output_type": "execute_result"
    }
   ],
   "source": [
    "ratings = ratings.sort_values(by=['userId', 'rating'], ascending=False) #ordernar por rating em cada usuário para futuramente selecionar os ratings mais relevantes\n",
    "sinopses = pd.read_csv('movies2.csv')\n",
    "filmes_sem_sinopse = sinopses[sinopses['sinopse'].isnull()]['movieId'].tolist()\n",
    "ratings = ratings[~ratings['movieId'].isin(filmes_sem_sinopse)] #retirar ratings dos filmes que não tem sinopse\n",
    "ratings.head()"
   ]
  },
  {
   "attachments": {},
   "cell_type": "markdown",
   "metadata": {},
   "source": [
    "## usuários = 10 filmes mais bem cotados por usuário"
   ]
  },
  {
   "cell_type": "code",
   "execution_count": 34,
   "metadata": {},
   "outputs": [
    {
     "data": {
      "text/html": [
       "<div>\n",
       "<style scoped>\n",
       "    .dataframe tbody tr th:only-of-type {\n",
       "        vertical-align: middle;\n",
       "    }\n",
       "\n",
       "    .dataframe tbody tr th {\n",
       "        vertical-align: top;\n",
       "    }\n",
       "\n",
       "    .dataframe thead th {\n",
       "        text-align: right;\n",
       "    }\n",
       "</style>\n",
       "<table border=\"1\" class=\"dataframe\">\n",
       "  <thead>\n",
       "    <tr style=\"text-align: right;\">\n",
       "      <th></th>\n",
       "      <th>userId</th>\n",
       "      <th>movieId</th>\n",
       "      <th>rating</th>\n",
       "    </tr>\n",
       "  </thead>\n",
       "  <tbody>\n",
       "    <tr>\n",
       "      <th>0</th>\n",
       "      <td>1</td>\n",
       "      <td>296</td>\n",
       "      <td>5.0</td>\n",
       "    </tr>\n",
       "    <tr>\n",
       "      <th>2</th>\n",
       "      <td>1</td>\n",
       "      <td>307</td>\n",
       "      <td>5.0</td>\n",
       "    </tr>\n",
       "    <tr>\n",
       "      <th>3</th>\n",
       "      <td>1</td>\n",
       "      <td>665</td>\n",
       "      <td>5.0</td>\n",
       "    </tr>\n",
       "    <tr>\n",
       "      <th>8</th>\n",
       "      <td>1</td>\n",
       "      <td>1237</td>\n",
       "      <td>5.0</td>\n",
       "    </tr>\n",
       "    <tr>\n",
       "      <th>18</th>\n",
       "      <td>1</td>\n",
       "      <td>2632</td>\n",
       "      <td>5.0</td>\n",
       "    </tr>\n",
       "  </tbody>\n",
       "</table>\n",
       "</div>"
      ],
      "text/plain": [
       "    userId  movieId  rating\n",
       "0        1      296     5.0\n",
       "2        1      307     5.0\n",
       "3        1      665     5.0\n",
       "8        1     1237     5.0\n",
       "18       1     2632     5.0"
      ]
     },
     "execution_count": 34,
     "metadata": {},
     "output_type": "execute_result"
    }
   ],
   "source": [
    "usuarios = ratings.groupby('userId').apply(lambda x: x.iloc[:10]) #agrupar por usuários mantendo só as 10 primeiras linhas de cada\n",
    "usuarios = usuarios.reset_index(level=0, drop=True)\n",
    "usuarios.head()"
   ]
  },
  {
   "attachments": {},
   "cell_type": "markdown",
   "metadata": {},
   "source": [
    "## retirar sinopses de filmes não assistidos"
   ]
  },
  {
   "cell_type": "code",
   "execution_count": 576,
   "metadata": {},
   "outputs": [
    {
     "data": {
      "text/html": [
       "<div>\n",
       "<style scoped>\n",
       "    .dataframe tbody tr th:only-of-type {\n",
       "        vertical-align: middle;\n",
       "    }\n",
       "\n",
       "    .dataframe tbody tr th {\n",
       "        vertical-align: top;\n",
       "    }\n",
       "\n",
       "    .dataframe thead th {\n",
       "        text-align: right;\n",
       "    }\n",
       "</style>\n",
       "<table border=\"1\" class=\"dataframe\">\n",
       "  <thead>\n",
       "    <tr style=\"text-align: right;\">\n",
       "      <th></th>\n",
       "      <th>movieId</th>\n",
       "      <th>title</th>\n",
       "      <th>genres</th>\n",
       "      <th>titulo</th>\n",
       "      <th>ano</th>\n",
       "      <th>sinopse</th>\n",
       "    </tr>\n",
       "  </thead>\n",
       "  <tbody>\n",
       "    <tr>\n",
       "      <th>0</th>\n",
       "      <td>1</td>\n",
       "      <td>Toy Story (1995)</td>\n",
       "      <td>Adventure|Animation|Children|Comedy|Fantasy</td>\n",
       "      <td>Toy Story</td>\n",
       "      <td>1995</td>\n",
       "      <td>Led by Woody, Andy's toys live happily in his ...</td>\n",
       "    </tr>\n",
       "    <tr>\n",
       "      <th>1</th>\n",
       "      <td>2</td>\n",
       "      <td>Jumanji (1995)</td>\n",
       "      <td>Adventure|Children|Fantasy</td>\n",
       "      <td>Jumanji</td>\n",
       "      <td>1995</td>\n",
       "      <td>When siblings Judy and Peter discover an encha...</td>\n",
       "    </tr>\n",
       "    <tr>\n",
       "      <th>2</th>\n",
       "      <td>3</td>\n",
       "      <td>Grumpier Old Men (1995)</td>\n",
       "      <td>Comedy|Romance</td>\n",
       "      <td>Grumpier Old Men</td>\n",
       "      <td>1995</td>\n",
       "      <td>A family wedding reignites the ancient feud be...</td>\n",
       "    </tr>\n",
       "    <tr>\n",
       "      <th>3</th>\n",
       "      <td>4</td>\n",
       "      <td>Waiting to Exhale (1995)</td>\n",
       "      <td>Comedy|Drama|Romance</td>\n",
       "      <td>Waiting to Exhale</td>\n",
       "      <td>1995</td>\n",
       "      <td>Cheated on, mistreated and stepped on, the wom...</td>\n",
       "    </tr>\n",
       "    <tr>\n",
       "      <th>4</th>\n",
       "      <td>5</td>\n",
       "      <td>Father of the Bride Part II (1995)</td>\n",
       "      <td>Comedy</td>\n",
       "      <td>Father of the Bride Part II</td>\n",
       "      <td>1995</td>\n",
       "      <td>Just when George Banks has recovered from his ...</td>\n",
       "    </tr>\n",
       "    <tr>\n",
       "      <th>...</th>\n",
       "      <td>...</td>\n",
       "      <td>...</td>\n",
       "      <td>...</td>\n",
       "      <td>...</td>\n",
       "      <td>...</td>\n",
       "      <td>...</td>\n",
       "    </tr>\n",
       "    <tr>\n",
       "      <th>11468</th>\n",
       "      <td>207311</td>\n",
       "      <td>Last Christmas (2019)</td>\n",
       "      <td>Comedy|Romance</td>\n",
       "      <td>Last Christmas</td>\n",
       "      <td>2019</td>\n",
       "      <td>Kate is a young woman who has a habit of makin...</td>\n",
       "    </tr>\n",
       "    <tr>\n",
       "      <th>11469</th>\n",
       "      <td>207834</td>\n",
       "      <td>Jenny Slate: Stage Fright (2019)</td>\n",
       "      <td>Comedy|Documentary</td>\n",
       "      <td>Jenny Slate: Stage Fright</td>\n",
       "      <td>2019</td>\n",
       "      <td>Jenny Slate's first stand-up special is a mix ...</td>\n",
       "    </tr>\n",
       "    <tr>\n",
       "      <th>11470</th>\n",
       "      <td>207888</td>\n",
       "      <td>Black and Blue (2019)</td>\n",
       "      <td>Action|Crime|Drama</td>\n",
       "      <td>Black and Blue</td>\n",
       "      <td>2019</td>\n",
       "      <td>A rookie cop inadvertently captures the murder...</td>\n",
       "    </tr>\n",
       "    <tr>\n",
       "      <th>11471</th>\n",
       "      <td>208006</td>\n",
       "      <td>Chhichhore (2019)</td>\n",
       "      <td>Comedy|Romance</td>\n",
       "      <td>Chhichhore</td>\n",
       "      <td>2019</td>\n",
       "      <td>Following a group of friends from university a...</td>\n",
       "    </tr>\n",
       "    <tr>\n",
       "      <th>11472</th>\n",
       "      <td>208265</td>\n",
       "      <td>Rolli and the Golden Key (2013)</td>\n",
       "      <td>Adventure</td>\n",
       "      <td>Rolli and the Golden Key</td>\n",
       "      <td>2013</td>\n",
       "      <td>A flock of storks fly in the misty sky, all ca...</td>\n",
       "    </tr>\n",
       "  </tbody>\n",
       "</table>\n",
       "<p>11473 rows × 6 columns</p>\n",
       "</div>"
      ],
      "text/plain": [
       "       movieId                               title  \\\n",
       "0            1                    Toy Story (1995)   \n",
       "1            2                      Jumanji (1995)   \n",
       "2            3             Grumpier Old Men (1995)   \n",
       "3            4            Waiting to Exhale (1995)   \n",
       "4            5  Father of the Bride Part II (1995)   \n",
       "...        ...                                 ...   \n",
       "11468   207311               Last Christmas (2019)   \n",
       "11469   207834    Jenny Slate: Stage Fright (2019)   \n",
       "11470   207888               Black and Blue (2019)   \n",
       "11471   208006                   Chhichhore (2019)   \n",
       "11472   208265     Rolli and the Golden Key (2013)   \n",
       "\n",
       "                                            genres  \\\n",
       "0      Adventure|Animation|Children|Comedy|Fantasy   \n",
       "1                       Adventure|Children|Fantasy   \n",
       "2                                   Comedy|Romance   \n",
       "3                             Comedy|Drama|Romance   \n",
       "4                                           Comedy   \n",
       "...                                            ...   \n",
       "11468                               Comedy|Romance   \n",
       "11469                           Comedy|Documentary   \n",
       "11470                           Action|Crime|Drama   \n",
       "11471                               Comedy|Romance   \n",
       "11472                                    Adventure   \n",
       "\n",
       "                            titulo   ano  \\\n",
       "0                        Toy Story  1995   \n",
       "1                          Jumanji  1995   \n",
       "2                 Grumpier Old Men  1995   \n",
       "3                Waiting to Exhale  1995   \n",
       "4      Father of the Bride Part II  1995   \n",
       "...                            ...   ...   \n",
       "11468               Last Christmas  2019   \n",
       "11469    Jenny Slate: Stage Fright  2019   \n",
       "11470               Black and Blue  2019   \n",
       "11471                   Chhichhore  2019   \n",
       "11472     Rolli and the Golden Key  2013   \n",
       "\n",
       "                                                 sinopse  \n",
       "0      Led by Woody, Andy's toys live happily in his ...  \n",
       "1      When siblings Judy and Peter discover an encha...  \n",
       "2      A family wedding reignites the ancient feud be...  \n",
       "3      Cheated on, mistreated and stepped on, the wom...  \n",
       "4      Just when George Banks has recovered from his ...  \n",
       "...                                                  ...  \n",
       "11468  Kate is a young woman who has a habit of makin...  \n",
       "11469  Jenny Slate's first stand-up special is a mix ...  \n",
       "11470  A rookie cop inadvertently captures the murder...  \n",
       "11471  Following a group of friends from university a...  \n",
       "11472  A flock of storks fly in the misty sky, all ca...  \n",
       "\n",
       "[11473 rows x 6 columns]"
      ]
     },
     "execution_count": 576,
     "metadata": {},
     "output_type": "execute_result"
    }
   ],
   "source": [
    "sinopses = sinopses[sinopses['movieId'].isin(usuarios.movieId.unique())] #manter no DF Sinopses apenas os filmes que participam das preferencias dos usuários\n",
    "sinopses = sinopses.reset_index(drop=True)\n",
    "def get_posicao_do_filme(movieId:int):\n",
    "    return sinopses.index[sinopses['movieId']==movieId][0]\n",
    "sinopses"
   ]
  },
  {
   "attachments": {},
   "cell_type": "markdown",
   "metadata": {},
   "source": [
    "## filmes_plano_vetor: matriz esparsa com score TFIDF das palavras\n",
    "termos: vetor das palavras em todo o corpus"
   ]
  },
  {
   "cell_type": "code",
   "execution_count": 390,
   "metadata": {},
   "outputs": [],
   "source": [
    "# Criar um objeto de transformação de TF-IDF\n",
    "vetor_palavras = TfidfVectorizer(stop_words='english')\n",
    "\n",
    "# Ajustar o objeto de transformação aos resumos de filmes\n",
    "filmes_plano_vetor = vetor_palavras.fit_transform(sinopses.sinopse)\n",
    "\n",
    "# Obter uma lista de todos os termos presentes nos resumos\n",
    "termos = vetor_palavras.get_feature_names_out()\n",
    "qtd_termos = len(termos)"
   ]
  },
  {
   "cell_type": "code",
   "execution_count": 407,
   "metadata": {},
   "outputs": [],
   "source": [
    "def get_pos_termo(palavra: str):\n",
    "    return np.where(termos == palavra)[0][0]"
   ]
  },
  {
   "cell_type": "code",
   "execution_count": 334,
   "metadata": {},
   "outputs": [
    {
     "data": {
      "text/plain": [
       "array([[0, 1, 2],\n",
       "       [0, 2, 4]])"
      ]
     },
     "execution_count": 334,
     "metadata": {},
     "output_type": "execute_result"
    }
   ],
   "source": [
    "a = np.array([0,1,2])\n",
    "a = np.vstack((a,a*2))\n",
    "a\n"
   ]
  },
  {
   "cell_type": "code",
   "execution_count": 335,
   "metadata": {},
   "outputs": [
    {
     "data": {
      "text/plain": [
       "2"
      ]
     },
     "execution_count": 335,
     "metadata": {},
     "output_type": "execute_result"
    }
   ],
   "source": [
    "a[1,1]"
   ]
  },
  {
   "cell_type": "code",
   "execution_count": 722,
   "metadata": {},
   "outputs": [],
   "source": [
    "def get_tfidf_filme(movieId: int, log = False):\n",
    "    try:\n",
    "        posicao = sinopses[sinopses['movieId']== movieId].index[0]\n",
    "    except IndexError:\n",
    "        return \"Filme não existe\"\n",
    "    titulo = sinopses.loc[posicao]['titulo']\n",
    "    sinopse = sinopses.loc[posicao]['sinopse']\n",
    "    if(log):\n",
    "        print(titulo, '\\n', sinopse)\n",
    "    lista_termos = [termos[i] for i in filmes_plano_vetor.getrow(posicao).indices]\n",
    "    lista_scores = filmes_plano_vetor.getrow(posicao).data\n",
    "    return dict(zip(lista_termos, lista_scores))"
   ]
  },
  {
   "cell_type": "code",
   "execution_count": 940,
   "metadata": {},
   "outputs": [],
   "source": [
    "def criar_lista_termos_usuario(userId):\n",
    "    dicionario = dict()\n",
    "    lista_filmes = usuarios[usuarios['userId']==userId]['movieId'].to_numpy()\n",
    "    for filme in lista_filmes:\n",
    "        termos_filme = get_tfidf_filme(filme)\n",
    "        for chave, valor in termos_filme.items():\n",
    "            if chave in dicionario:                 #Se a palavra já existe no texto do usuário\n",
    "                dicionario[chave] = math.tanh(dicionario[chave]+valor) #Ela ganha um score mais alto usando tangente hiperbólica (max=1)\n",
    "            else:\n",
    "                dicionario[chave] = valor\n",
    "    return sorted(dicionario.items(), key=lambda kv: kv[1],reverse=True) #retorna lista de tuplas com termos e tfidf score descendentemente\n",
    "\n",
    "def criar_texto_usuario(lista_termos: list):\n",
    "    texto = str()\n",
    "    for tupla in lista_termos:\n",
    "        texto += tupla[0] + ' '\n",
    "    return texto\n",
    "\n",
    "def criar_vetor_usuario(lista_termos=None, userId=0):\n",
    "    if(userId != 0):\n",
    "        lista_termos = criar_lista_termos_usuario(userId)\n",
    "    vetor = np.array([np.zeros(qtd_termos)])[0]\n",
    "    for chave, valor in lista_termos:\n",
    "        vetor[get_pos_termo(chave)] = valor\n",
    "    return csc_matrix(vetor)   \n"
   ]
  },
  {
   "cell_type": "code",
   "execution_count": 717,
   "metadata": {},
   "outputs": [
    {
     "name": "stdout",
     "output_type": "stream",
     "text": [
      "Pulp Fiction \n",
      " A burger-loving hit man, his philosophical partner, a drug-addled gangster's moll and a washed-up boxer converge in this sprawling, comedic crime caper. Their adventures unfurl in three stories that ingeniously trip back and forth in time.\n"
     ]
    },
    {
     "data": {
      "text/plain": [
       "{'forth': 0.22856712413794955,\n",
       " 'ingeniously': 0.27757997099847637,\n",
       " 'stories': 0.16083904465991555,\n",
       " 'unfurl': 0.27757997099847637,\n",
       " 'caper': 0.24599400465615298,\n",
       " 'comedic': 0.2160513876139889,\n",
       " 'sprawling': 0.23130736668068488,\n",
       " 'boxer': 0.19877866717331255,\n",
       " 'washed': 0.2237641879702544,\n",
       " 'moll': 0.2576514450377979,\n",
       " 'addled': 0.25123589264136337,\n",
       " 'philosophical': 0.23130736668068488,\n",
       " 'burger': 0.24156205151409138,\n",
       " 'loving': 0.17979287437768304,\n",
       " 'drug': 0.14432787165641545,\n",
       " 'trip': 0.146956676906245,\n",
       " 'gangster': 0.17793734119508411,\n",
       " 'converge': 0.2237641879702544,\n",
       " 'hit': 0.1558460827801334,\n",
       " 'partner': 0.1598643484170046,\n",
       " 'crime': 0.14256845120314593,\n",
       " 'adventures': 0.17046335815120883,\n",
       " 'man': 0.09473722634746612,\n",
       " 'time': 0.10706141795524449}"
      ]
     },
     "execution_count": 717,
     "metadata": {},
     "output_type": "execute_result"
    }
   ],
   "source": [
    "get_tfidf_filme(296, log=True)"
   ]
  },
  {
   "cell_type": "code",
   "execution_count": 529,
   "metadata": {},
   "outputs": [
    {
     "data": {
      "text/plain": [
       "(10,)"
      ]
     },
     "execution_count": 529,
     "metadata": {},
     "output_type": "execute_result"
    }
   ],
   "source": [
    "a = np.array([np.zeros(10)])[0]\n",
    "a[7]=1\n",
    "a[0]\n",
    "a.shape"
   ]
  },
  {
   "cell_type": "code",
   "execution_count": 553,
   "metadata": {},
   "outputs": [
    {
     "data": {
      "text/plain": [
       "<1x32233 sparse matrix of type '<class 'numpy.float64'>'\n",
       "\twith 222 stored elements in Compressed Sparse Column format>"
      ]
     },
     "execution_count": 553,
     "metadata": {},
     "output_type": "execute_result"
    }
   ],
   "source": [
    "texto_usuario_2 = sorted(criar_lista_termos_usuario(2).items(), key=lambda kv: kv[1],reverse=True)\n",
    "vetor_usuario_2 = criar_vetor_usuario(texto_usuario_2)\n",
    "vetor_usuario_2"
   ]
  },
  {
   "cell_type": "code",
   "execution_count": 435,
   "metadata": {},
   "outputs": [
    {
     "data": {
      "text/plain": [
       "matrix([], shape=(32154, 0), dtype=float64)"
      ]
     },
     "execution_count": 435,
     "metadata": {},
     "output_type": "execute_result"
    }
   ],
   "source": [
    "vetor_usuario_1.todense()"
   ]
  },
  {
   "cell_type": "code",
   "execution_count": 575,
   "metadata": {},
   "outputs": [
    {
     "data": {
      "text/html": [
       "<div>\n",
       "<style scoped>\n",
       "    .dataframe tbody tr th:only-of-type {\n",
       "        vertical-align: middle;\n",
       "    }\n",
       "\n",
       "    .dataframe tbody tr th {\n",
       "        vertical-align: top;\n",
       "    }\n",
       "\n",
       "    .dataframe thead th {\n",
       "        text-align: right;\n",
       "    }\n",
       "</style>\n",
       "<table border=\"1\" class=\"dataframe\">\n",
       "  <thead>\n",
       "    <tr style=\"text-align: right;\">\n",
       "      <th></th>\n",
       "      <th>userId</th>\n",
       "      <th>movieId</th>\n",
       "      <th>rating</th>\n",
       "      <th>titulo</th>\n",
       "      <th>ano</th>\n",
       "      <th>sinopse</th>\n",
       "    </tr>\n",
       "  </thead>\n",
       "  <tbody>\n",
       "    <tr>\n",
       "      <th>0</th>\n",
       "      <td>7</td>\n",
       "      <td>58</td>\n",
       "      <td>5.0</td>\n",
       "      <td>Postman, The (Postino, Il)</td>\n",
       "      <td>1994</td>\n",
       "      <td>Simple Italian postman learns to love poetry w...</td>\n",
       "    </tr>\n",
       "    <tr>\n",
       "      <th>1</th>\n",
       "      <td>7</td>\n",
       "      <td>306</td>\n",
       "      <td>5.0</td>\n",
       "      <td>Three Colors: Red (Trois couleurs: Rouge)</td>\n",
       "      <td>1994</td>\n",
       "      <td>Valentine, a student model in Geneva, struggle...</td>\n",
       "    </tr>\n",
       "    <tr>\n",
       "      <th>2</th>\n",
       "      <td>7</td>\n",
       "      <td>527</td>\n",
       "      <td>5.0</td>\n",
       "      <td>Schindler's List</td>\n",
       "      <td>1993</td>\n",
       "      <td>The true story of how businessman Oskar Schind...</td>\n",
       "    </tr>\n",
       "  </tbody>\n",
       "</table>\n",
       "</div>"
      ],
      "text/plain": [
       "   userId  movieId  rating                                     titulo   ano  \\\n",
       "0       7       58     5.0                 Postman, The (Postino, Il)  1994   \n",
       "1       7      306     5.0  Three Colors: Red (Trois couleurs: Rouge)  1994   \n",
       "2       7      527     5.0                           Schindler's List  1993   \n",
       "\n",
       "                                             sinopse  \n",
       "0  Simple Italian postman learns to love poetry w...  \n",
       "1  Valentine, a student model in Geneva, struggle...  \n",
       "2  The true story of how businessman Oskar Schind...  "
      ]
     },
     "execution_count": 575,
     "metadata": {},
     "output_type": "execute_result"
    }
   ],
   "source": [
    "def get_filme(movieId:int, args=['titulo', 'ano']):\n",
    "    return sinopses[sinopses['movieId']==movieId][args]\n",
    "\n",
    "def get_filme_na_loc(posicao:int, args=['titulo', 'ano']):\n",
    "    return sinopses.loc[posicao][args]\n",
    "\n",
    "def get_filmes_usuario(id:int):\n",
    "    return usuarios[usuarios.userId==id].merge(sinopses[['movieId','titulo', 'ano','sinopse']], left_on='movieId', right_on='movieId')\n",
    "get_filmes_usuario(7).head(3)"
   ]
  },
  {
   "cell_type": "code",
   "execution_count": 200,
   "metadata": {},
   "outputs": [
    {
     "data": {
      "text/plain": [
       "array([[1.        , 0.04920363],\n",
       "       [0.04920363, 1.        ]])"
      ]
     },
     "execution_count": 200,
     "metadata": {},
     "output_type": "execute_result"
    }
   ],
   "source": [
    "from sklearn.metrics.pairwise import cosine_similarity\n",
    "cosine_similarity([filmes_plano_vetor.getrow(1).toarray()[0],filmes_plano_vetor.getrow(2).toarray()[0]])\n",
    "#ValueError: setting an array element with a sequence.\n",
    "#filmes_plano_vetor.getrow(1).toarray()\n",
    "#cosine_similarity([[1,2,2,3,1,2,2,3],[1,2,2,3,1,2,2,3]])"
   ]
  },
  {
   "attachments": {},
   "cell_type": "markdown",
   "metadata": {},
   "source": [
    "# retornar uma lista dos mais similares igual a função do trabalho anterior"
   ]
  },
  {
   "cell_type": "code",
   "execution_count": 423,
   "metadata": {},
   "outputs": [
    {
     "data": {
      "text/plain": [
       "array([0., 0., 0., ..., 0., 0., 0.])"
      ]
     },
     "execution_count": 423,
     "metadata": {},
     "output_type": "execute_result"
    }
   ],
   "source": [
    "jumangi_vetor"
   ]
  },
  {
   "cell_type": "code",
   "execution_count": 560,
   "metadata": {},
   "outputs": [
    {
     "data": {
      "text/html": [
       "<div>\n",
       "<style scoped>\n",
       "    .dataframe tbody tr th:only-of-type {\n",
       "        vertical-align: middle;\n",
       "    }\n",
       "\n",
       "    .dataframe tbody tr th {\n",
       "        vertical-align: top;\n",
       "    }\n",
       "\n",
       "    .dataframe thead th {\n",
       "        text-align: right;\n",
       "    }\n",
       "</style>\n",
       "<table border=\"1\" class=\"dataframe\">\n",
       "  <thead>\n",
       "    <tr style=\"text-align: right;\">\n",
       "      <th></th>\n",
       "      <th>userId</th>\n",
       "      <th>movieId</th>\n",
       "      <th>rating</th>\n",
       "      <th>titulo</th>\n",
       "      <th>ano</th>\n",
       "      <th>sinopse</th>\n",
       "    </tr>\n",
       "  </thead>\n",
       "  <tbody>\n",
       "    <tr>\n",
       "      <th>0</th>\n",
       "      <td>1</td>\n",
       "      <td>296</td>\n",
       "      <td>5.0</td>\n",
       "      <td>Pulp Fiction</td>\n",
       "      <td>1994</td>\n",
       "      <td>A burger-loving hit man, his philosophical par...</td>\n",
       "    </tr>\n",
       "    <tr>\n",
       "      <th>1</th>\n",
       "      <td>1</td>\n",
       "      <td>307</td>\n",
       "      <td>5.0</td>\n",
       "      <td>Three Colors: Blue (Trois couleurs: Bleu)</td>\n",
       "      <td>1993</td>\n",
       "      <td>Julie is haunted by her grief after living thr...</td>\n",
       "    </tr>\n",
       "    <tr>\n",
       "      <th>2</th>\n",
       "      <td>1</td>\n",
       "      <td>665</td>\n",
       "      <td>5.0</td>\n",
       "      <td>Underground</td>\n",
       "      <td>1995</td>\n",
       "      <td>Black marketeers Marko and Blacky manufacture ...</td>\n",
       "    </tr>\n",
       "    <tr>\n",
       "      <th>3</th>\n",
       "      <td>1</td>\n",
       "      <td>1237</td>\n",
       "      <td>5.0</td>\n",
       "      <td>Seventh Seal, The (Sjunde inseglet, Det)</td>\n",
       "      <td>1957</td>\n",
       "      <td>When disillusioned Swedish knight Antonius Blo...</td>\n",
       "    </tr>\n",
       "    <tr>\n",
       "      <th>4</th>\n",
       "      <td>1</td>\n",
       "      <td>2632</td>\n",
       "      <td>5.0</td>\n",
       "      <td>Saragossa Manuscript, The (Rekopis znaleziony ...</td>\n",
       "      <td>1965</td>\n",
       "      <td>In the Napoleonic wars, an officer finds an ol...</td>\n",
       "    </tr>\n",
       "    <tr>\n",
       "      <th>5</th>\n",
       "      <td>1</td>\n",
       "      <td>2692</td>\n",
       "      <td>5.0</td>\n",
       "      <td>Run Lola Run (Lola rennt)</td>\n",
       "      <td>1998</td>\n",
       "      <td>Lola receives a phone call from her boyfriend ...</td>\n",
       "    </tr>\n",
       "    <tr>\n",
       "      <th>6</th>\n",
       "      <td>1</td>\n",
       "      <td>3569</td>\n",
       "      <td>5.0</td>\n",
       "      <td>Idiots, The (Idioterne)</td>\n",
       "      <td>1998</td>\n",
       "      <td>With his first Dogma-95 film director Lars von...</td>\n",
       "    </tr>\n",
       "    <tr>\n",
       "      <th>7</th>\n",
       "      <td>1</td>\n",
       "      <td>3949</td>\n",
       "      <td>5.0</td>\n",
       "      <td>Requiem for a Dream</td>\n",
       "      <td>2000</td>\n",
       "      <td>The hopes and dreams of four ambitious people ...</td>\n",
       "    </tr>\n",
       "    <tr>\n",
       "      <th>8</th>\n",
       "      <td>1</td>\n",
       "      <td>4144</td>\n",
       "      <td>5.0</td>\n",
       "      <td>In the Mood For Love (Fa yeung nin wa)</td>\n",
       "      <td>2000</td>\n",
       "      <td>Hong Kong, 1962: Chow Mo-Wan and Su Li-Zhen mo...</td>\n",
       "    </tr>\n",
       "    <tr>\n",
       "      <th>9</th>\n",
       "      <td>1</td>\n",
       "      <td>4325</td>\n",
       "      <td>5.0</td>\n",
       "      <td>Night, The (Notte, La)</td>\n",
       "      <td>1960</td>\n",
       "      <td>1943. The affair between Anna, unhappily marri...</td>\n",
       "    </tr>\n",
       "  </tbody>\n",
       "</table>\n",
       "</div>"
      ],
      "text/plain": [
       "   userId  movieId  rating                                             titulo  \\\n",
       "0       1      296     5.0                                       Pulp Fiction   \n",
       "1       1      307     5.0          Three Colors: Blue (Trois couleurs: Bleu)   \n",
       "2       1      665     5.0                                        Underground   \n",
       "3       1     1237     5.0           Seventh Seal, The (Sjunde inseglet, Det)   \n",
       "4       1     2632     5.0  Saragossa Manuscript, The (Rekopis znaleziony ...   \n",
       "5       1     2692     5.0                          Run Lola Run (Lola rennt)   \n",
       "6       1     3569     5.0                            Idiots, The (Idioterne)   \n",
       "7       1     3949     5.0                                Requiem for a Dream   \n",
       "8       1     4144     5.0             In the Mood For Love (Fa yeung nin wa)   \n",
       "9       1     4325     5.0                             Night, The (Notte, La)   \n",
       "\n",
       "    ano                                            sinopse  \n",
       "0  1994  A burger-loving hit man, his philosophical par...  \n",
       "1  1993  Julie is haunted by her grief after living thr...  \n",
       "2  1995  Black marketeers Marko and Blacky manufacture ...  \n",
       "3  1957  When disillusioned Swedish knight Antonius Blo...  \n",
       "4  1965  In the Napoleonic wars, an officer finds an ol...  \n",
       "5  1998  Lola receives a phone call from her boyfriend ...  \n",
       "6  1998  With his first Dogma-95 film director Lars von...  \n",
       "7  2000  The hopes and dreams of four ambitious people ...  \n",
       "8  2000  Hong Kong, 1962: Chow Mo-Wan and Su Li-Zhen mo...  \n",
       "9  1960  1943. The affair between Anna, unhappily marri...  "
      ]
     },
     "execution_count": 560,
     "metadata": {},
     "output_type": "execute_result"
    }
   ],
   "source": [
    "get_filmes_usuario(1)"
   ]
  },
  {
   "cell_type": "code",
   "execution_count": 465,
   "metadata": {},
   "outputs": [
    {
     "data": {
      "text/plain": [
       "284"
      ]
     },
     "execution_count": 465,
     "metadata": {},
     "output_type": "execute_result"
    }
   ],
   "source": [
    "get_posicao_do_filme(296)"
   ]
  },
  {
   "cell_type": "code",
   "execution_count": 537,
   "metadata": {},
   "outputs": [
    {
     "name": "stdout",
     "output_type": "stream",
     "text": [
      "0.3284780588620847\n",
      "0.32819137065530213\n",
      "0.32925892796114975\n",
      "0.32133577374901745\n",
      "0.3362131129243492\n",
      "0.3100596089255163\n",
      "0.3267494609765945\n",
      "0.323959611804318\n",
      "0.3100596089255163\n",
      "0.3171274686541995\n"
     ]
    }
   ],
   "source": [
    "for filme in get_filmes_usuario(1)['movieId'].to_list():\n",
    "    pos = get_pos_filme(filme)\n",
    "    print(comparar_vetores_esparsos(filmes_plano_vetor.getrow(pos),criar_vetor_usuario(texto_usuario_1)))"
   ]
  },
  {
   "cell_type": "code",
   "execution_count": 488,
   "metadata": {},
   "outputs": [],
   "source": [
    "def comparar_vetores_esparsos(a:csc_matrix, b:csc_matrix):\n",
    "    a, b = a.toarray()[0], b.toarray()[0]\n",
    "    return 1 - spatial.distance.cosine(a, b)"
   ]
  },
  {
   "cell_type": "code",
   "execution_count": 489,
   "metadata": {},
   "outputs": [
    {
     "data": {
      "text/plain": [
       "0.3362131129243492"
      ]
     },
     "execution_count": 489,
     "metadata": {},
     "output_type": "execute_result"
    }
   ],
   "source": [
    "comparar_vetores_esparsos(filmes_plano_vetor.getrow(2301),criar_vetor_usuario(texto_usuario_1))"
   ]
  },
  {
   "cell_type": "code",
   "execution_count": 644,
   "metadata": {},
   "outputs": [
    {
     "data": {
      "text/plain": [
       "array([     1,      2,      3, ..., 207888, 208006, 208265])"
      ]
     },
     "execution_count": 644,
     "metadata": {},
     "output_type": "execute_result"
    }
   ],
   "source": [
    "array_movieId_filmes = np.array()\n",
    "array_movieId_filmes"
   ]
  },
  {
   "cell_type": "code",
   "execution_count": 738,
   "metadata": {},
   "outputs": [],
   "source": [
    "def get_mais_similares(vetor):\n",
    "    lista_similaridades = []\n",
    "    lista_movieIds = sinopses['movieId'].to_list()\n",
    "    lista_linhas_zeradas = []\n",
    "    for linha in range(filmes_plano_vetor.shape[0]): #percorrer cada linha com filmes no vetor \n",
    "        linha_vetor = filmes_plano_vetor.getrow(linha)#.toarray()[0]\n",
    "        '''  TESTE DE OTIMIZACAO CHECANDO INTERSESSAO ANTES DE CALCULAR COSSENO: FALHOU 20% mais lento \n",
    "        if(set(vetor.nonzero()[1]).intersection(linha_vetor.nonzero()[1])): #Se há interseção dos vetores\n",
    "            #cos_sim = dot(vetor.toarray()[0], linha_vetor.toarray()[0])#/(norm(vetor)*norm(linha_vetor)) #MUITO LENTO USANDO NUMPY\n",
    "            cos_sim = 1 - spatial.distance.cosine(vetor.toarray()[0], linha_vetor.toarray()[0]) #calcula o cosseno\n",
    "        else:\n",
    "            cos_sim = 0         #senão o cosseno é zero\n",
    "        '''\n",
    "        cos_sim = 1 - spatial.distance.cosine(vetor.toarray()[0], linha_vetor.toarray()[0])\n",
    "        if(cos_sim > 0):\n",
    "            lista_similaridades.append(cos_sim)\n",
    "        else:\n",
    "            lista_linhas_zeradas.append(linha)\n",
    "    for linha in sorted(lista_linhas_zeradas, reverse=True):\n",
    "        lista_movieIds.pop(linha)\n",
    "\n",
    "    ordenados = list(zip(*sorted(zip(lista_similaridades, lista_movieIds), key=lambda x: x[0], reverse=True) ))\n",
    "    return ordenados"
   ]
  },
  {
   "cell_type": "code",
   "execution_count": null,
   "metadata": {},
   "outputs": [],
   "source": [
    "termos_star_wars = {'star': 1.0, 'wars':1.0}.items()\n",
    "usuario_star_wars = criar_vetor_usuario(termos_star_wars)\n",
    "scores_similares_star_wars,filmes_similares_star_wars = get_mais_similares(usuario_star_wars)\n",
    "for i in range(20):\n",
    "    print(sinopses[sinopses['movieId']==filmes_similares_star_wars[i]])\n"
   ]
  },
  {
   "cell_type": "code",
   "execution_count": 739,
   "metadata": {},
   "outputs": [
    {
     "name": "stdout",
     "output_type": "stream",
     "text": [
      "\u001b[44m\u001b[93m Filmes do usuário 1 \n",
      "\u001b[0m\n"
     ]
    },
    {
     "data": {
      "text/html": [
       "<div>\n",
       "<style scoped>\n",
       "    .dataframe tbody tr th:only-of-type {\n",
       "        vertical-align: middle;\n",
       "    }\n",
       "\n",
       "    .dataframe tbody tr th {\n",
       "        vertical-align: top;\n",
       "    }\n",
       "\n",
       "    .dataframe thead th {\n",
       "        text-align: right;\n",
       "    }\n",
       "</style>\n",
       "<table border=\"1\" class=\"dataframe\">\n",
       "  <thead>\n",
       "    <tr style=\"text-align: right;\">\n",
       "      <th></th>\n",
       "      <th>userId</th>\n",
       "      <th>movieId</th>\n",
       "      <th>rating</th>\n",
       "      <th>titulo</th>\n",
       "      <th>ano</th>\n",
       "      <th>sinopse</th>\n",
       "    </tr>\n",
       "  </thead>\n",
       "  <tbody>\n",
       "    <tr>\n",
       "      <th>0</th>\n",
       "      <td>1</td>\n",
       "      <td>296</td>\n",
       "      <td>5.0</td>\n",
       "      <td>Pulp Fiction</td>\n",
       "      <td>1994</td>\n",
       "      <td>A burger-loving hit man, his philosophical par...</td>\n",
       "    </tr>\n",
       "    <tr>\n",
       "      <th>1</th>\n",
       "      <td>1</td>\n",
       "      <td>307</td>\n",
       "      <td>5.0</td>\n",
       "      <td>Three Colors: Blue (Trois couleurs: Bleu)</td>\n",
       "      <td>1993</td>\n",
       "      <td>Julie is haunted by her grief after living thr...</td>\n",
       "    </tr>\n",
       "    <tr>\n",
       "      <th>2</th>\n",
       "      <td>1</td>\n",
       "      <td>665</td>\n",
       "      <td>5.0</td>\n",
       "      <td>Underground</td>\n",
       "      <td>1995</td>\n",
       "      <td>Black marketeers Marko and Blacky manufacture ...</td>\n",
       "    </tr>\n",
       "    <tr>\n",
       "      <th>3</th>\n",
       "      <td>1</td>\n",
       "      <td>1237</td>\n",
       "      <td>5.0</td>\n",
       "      <td>Seventh Seal, The (Sjunde inseglet, Det)</td>\n",
       "      <td>1957</td>\n",
       "      <td>When disillusioned Swedish knight Antonius Blo...</td>\n",
       "    </tr>\n",
       "    <tr>\n",
       "      <th>4</th>\n",
       "      <td>1</td>\n",
       "      <td>2632</td>\n",
       "      <td>5.0</td>\n",
       "      <td>Saragossa Manuscript, The (Rekopis znaleziony ...</td>\n",
       "      <td>1965</td>\n",
       "      <td>In the Napoleonic wars, an officer finds an ol...</td>\n",
       "    </tr>\n",
       "    <tr>\n",
       "      <th>5</th>\n",
       "      <td>1</td>\n",
       "      <td>2692</td>\n",
       "      <td>5.0</td>\n",
       "      <td>Run Lola Run (Lola rennt)</td>\n",
       "      <td>1998</td>\n",
       "      <td>Lola receives a phone call from her boyfriend ...</td>\n",
       "    </tr>\n",
       "    <tr>\n",
       "      <th>6</th>\n",
       "      <td>1</td>\n",
       "      <td>3569</td>\n",
       "      <td>5.0</td>\n",
       "      <td>Idiots, The (Idioterne)</td>\n",
       "      <td>1998</td>\n",
       "      <td>With his first Dogma-95 film director Lars von...</td>\n",
       "    </tr>\n",
       "    <tr>\n",
       "      <th>7</th>\n",
       "      <td>1</td>\n",
       "      <td>3949</td>\n",
       "      <td>5.0</td>\n",
       "      <td>Requiem for a Dream</td>\n",
       "      <td>2000</td>\n",
       "      <td>The hopes and dreams of four ambitious people ...</td>\n",
       "    </tr>\n",
       "    <tr>\n",
       "      <th>8</th>\n",
       "      <td>1</td>\n",
       "      <td>4144</td>\n",
       "      <td>5.0</td>\n",
       "      <td>In the Mood For Love (Fa yeung nin wa)</td>\n",
       "      <td>2000</td>\n",
       "      <td>Hong Kong, 1962: Chow Mo-Wan and Su Li-Zhen mo...</td>\n",
       "    </tr>\n",
       "    <tr>\n",
       "      <th>9</th>\n",
       "      <td>1</td>\n",
       "      <td>4325</td>\n",
       "      <td>5.0</td>\n",
       "      <td>Night, The (Notte, La)</td>\n",
       "      <td>1960</td>\n",
       "      <td>1943. The affair between Anna, unhappily marri...</td>\n",
       "    </tr>\n",
       "  </tbody>\n",
       "</table>\n",
       "</div>"
      ],
      "text/plain": [
       "   userId  movieId  rating                                             titulo  \\\n",
       "0       1      296     5.0                                       Pulp Fiction   \n",
       "1       1      307     5.0          Three Colors: Blue (Trois couleurs: Bleu)   \n",
       "2       1      665     5.0                                        Underground   \n",
       "3       1     1237     5.0           Seventh Seal, The (Sjunde inseglet, Det)   \n",
       "4       1     2632     5.0  Saragossa Manuscript, The (Rekopis znaleziony ...   \n",
       "5       1     2692     5.0                          Run Lola Run (Lola rennt)   \n",
       "6       1     3569     5.0                            Idiots, The (Idioterne)   \n",
       "7       1     3949     5.0                                Requiem for a Dream   \n",
       "8       1     4144     5.0             In the Mood For Love (Fa yeung nin wa)   \n",
       "9       1     4325     5.0                             Night, The (Notte, La)   \n",
       "\n",
       "    ano                                            sinopse  \n",
       "0  1994  A burger-loving hit man, his philosophical par...  \n",
       "1  1993  Julie is haunted by her grief after living thr...  \n",
       "2  1995  Black marketeers Marko and Blacky manufacture ...  \n",
       "3  1957  When disillusioned Swedish knight Antonius Blo...  \n",
       "4  1965  In the Napoleonic wars, an officer finds an ol...  \n",
       "5  1998  Lola receives a phone call from her boyfriend ...  \n",
       "6  1998  With his first Dogma-95 film director Lars von...  \n",
       "7  2000  The hopes and dreams of four ambitious people ...  \n",
       "8  2000  Hong Kong, 1962: Chow Mo-Wan and Su Li-Zhen mo...  \n",
       "9  1960  1943. The affair between Anna, unhappily marri...  "
      ]
     },
     "metadata": {},
     "output_type": "display_data"
    },
    {
     "name": "stdout",
     "output_type": "stream",
     "text": [
      "\u001b[44m\u001b[93m Texto do usuário 1 \n",
      "\u001b[0m\n",
      "marko manni pino lola franco blacky addictions inner overcomes drug spiraling block stories quemada venta ranks film addiction death shattered gallows su chow people ingeniously unfurl zhen ambitious moll communist polite formal mo addled wan apartments spouses li dogma caper burger mind meets withdraw trier hopes sprawling philosophical forth redemptive jof antonius washed converge neighboring body platform 95 lars alternatives dm depending eventually wakes styles 1962 control comedic look idiots lock black begin olivier interactions tells story dreams bustling suppress intertwining ferrara f\n",
      "\n",
      "\u001b[44m\u001b[93m Recomendados, 10496 filmes: \n",
      "\u001b[0m\n"
     ]
    },
    {
     "data": {
      "text/html": [
       "<div>\n",
       "<style scoped>\n",
       "    .dataframe tbody tr th:only-of-type {\n",
       "        vertical-align: middle;\n",
       "    }\n",
       "\n",
       "    .dataframe tbody tr th {\n",
       "        vertical-align: top;\n",
       "    }\n",
       "\n",
       "    .dataframe thead th {\n",
       "        text-align: right;\n",
       "    }\n",
       "</style>\n",
       "<table border=\"1\" class=\"dataframe\">\n",
       "  <thead>\n",
       "    <tr style=\"text-align: right;\">\n",
       "      <th></th>\n",
       "      <th>movieId</th>\n",
       "      <th>titulo</th>\n",
       "      <th>ano</th>\n",
       "      <th>sinopse</th>\n",
       "    </tr>\n",
       "  </thead>\n",
       "  <tbody>\n",
       "    <tr>\n",
       "      <th>1517</th>\n",
       "      <td>1701</td>\n",
       "      <td>Deconstructing Harry</td>\n",
       "      <td>1997</td>\n",
       "      <td>This film tells the story of a successful writ...</td>\n",
       "    </tr>\n",
       "    <tr>\n",
       "      <th>2871</th>\n",
       "      <td>3328</td>\n",
       "      <td>Ghost Dog: The Way of the Samurai</td>\n",
       "      <td>1999</td>\n",
       "      <td>An African-American Mafia hit man who models h...</td>\n",
       "    </tr>\n",
       "    <tr>\n",
       "      <th>2947</th>\n",
       "      <td>3433</td>\n",
       "      <td>Death Wish 4: The Crackdown</td>\n",
       "      <td>1987</td>\n",
       "      <td>After the death of his girlfriend's daughter f...</td>\n",
       "    </tr>\n",
       "    <tr>\n",
       "      <th>3192</th>\n",
       "      <td>3747</td>\n",
       "      <td>Jesus' Son</td>\n",
       "      <td>1999</td>\n",
       "      <td>A young man turns from drug addiction and pett...</td>\n",
       "    </tr>\n",
       "    <tr>\n",
       "      <th>4068</th>\n",
       "      <td>4970</td>\n",
       "      <td>Blue Angel, The (Blaue Engel, Der)</td>\n",
       "      <td>1930</td>\n",
       "      <td>Prim professor Immanuel Rath finds some of his...</td>\n",
       "    </tr>\n",
       "    <tr>\n",
       "      <th>4674</th>\n",
       "      <td>6032</td>\n",
       "      <td>A Little Romance</td>\n",
       "      <td>1979</td>\n",
       "      <td>A young American girl and a young French boy m...</td>\n",
       "    </tr>\n",
       "    <tr>\n",
       "      <th>4888</th>\n",
       "      <td>6436</td>\n",
       "      <td>This Boy's Life</td>\n",
       "      <td>1993</td>\n",
       "      <td>When a son and mother move to Seattle in hopes...</td>\n",
       "    </tr>\n",
       "    <tr>\n",
       "      <th>5933</th>\n",
       "      <td>8930</td>\n",
       "      <td>Five Obstructions, The (Fem benspænd, De)</td>\n",
       "      <td>2003</td>\n",
       "      <td>Lars von Trier challenges his mentor, filmmake...</td>\n",
       "    </tr>\n",
       "    <tr>\n",
       "      <th>6305</th>\n",
       "      <td>27674</td>\n",
       "      <td>11:14</td>\n",
       "      <td>2003</td>\n",
       "      <td>Tells the seemingly random yet vitally connect...</td>\n",
       "    </tr>\n",
       "    <tr>\n",
       "      <th>6379</th>\n",
       "      <td>30712</td>\n",
       "      <td>The Narrow Margin</td>\n",
       "      <td>1952</td>\n",
       "      <td>A tough cop meets his match when he has to gua...</td>\n",
       "    </tr>\n",
       "    <tr>\n",
       "      <th>6764</th>\n",
       "      <td>40574</td>\n",
       "      <td>Get Rich or Die Tryin'</td>\n",
       "      <td>2005</td>\n",
       "      <td>A tale of an inner city drug dealer who turns ...</td>\n",
       "    </tr>\n",
       "    <tr>\n",
       "      <th>7643</th>\n",
       "      <td>60293</td>\n",
       "      <td>The Wackness</td>\n",
       "      <td>2008</td>\n",
       "      <td>Set in New York City in the sweltering summer,...</td>\n",
       "    </tr>\n",
       "    <tr>\n",
       "      <th>8570</th>\n",
       "      <td>84775</td>\n",
       "      <td>Submarino</td>\n",
       "      <td>2010</td>\n",
       "      <td>As children, Nick and his little brother take ...</td>\n",
       "    </tr>\n",
       "    <tr>\n",
       "      <th>9065</th>\n",
       "      <td>96829</td>\n",
       "      <td>Hunt, The (Jagten)</td>\n",
       "      <td>2012</td>\n",
       "      <td>A teacher lives a lonely life, all the while s...</td>\n",
       "    </tr>\n",
       "    <tr>\n",
       "      <th>9586</th>\n",
       "      <td>111778</td>\n",
       "      <td>Tracks</td>\n",
       "      <td>2013</td>\n",
       "      <td>A soldier returns from Vietnam on special assi...</td>\n",
       "    </tr>\n",
       "    <tr>\n",
       "      <th>9646</th>\n",
       "      <td>113604</td>\n",
       "      <td>If I Stay</td>\n",
       "      <td>2014</td>\n",
       "      <td>Mia Hall, a talented young cellist, thought th...</td>\n",
       "    </tr>\n",
       "    <tr>\n",
       "      <th>10325</th>\n",
       "      <td>142420</td>\n",
       "      <td>High Rise</td>\n",
       "      <td>2015</td>\n",
       "      <td>Life for the residents of a tower block begins...</td>\n",
       "    </tr>\n",
       "    <tr>\n",
       "      <th>10523</th>\n",
       "      <td>152017</td>\n",
       "      <td>Me Before You</td>\n",
       "      <td>2016</td>\n",
       "      <td>A small town girl is caught between dead-end j...</td>\n",
       "    </tr>\n",
       "    <tr>\n",
       "      <th>10567</th>\n",
       "      <td>154013</td>\n",
       "      <td>Lily Sometimes</td>\n",
       "      <td>2010</td>\n",
       "      <td>After the death of her mother, a woman returns...</td>\n",
       "    </tr>\n",
       "    <tr>\n",
       "      <th>11391</th>\n",
       "      <td>197045</td>\n",
       "      <td>Dealer/Healer</td>\n",
       "      <td>2017</td>\n",
       "      <td>The movie is based on a true story about a rep...</td>\n",
       "    </tr>\n",
       "  </tbody>\n",
       "</table>\n",
       "</div>"
      ],
      "text/plain": [
       "       movieId                                     titulo   ano  \\\n",
       "1517      1701                       Deconstructing Harry  1997   \n",
       "2871      3328          Ghost Dog: The Way of the Samurai  1999   \n",
       "2947      3433                Death Wish 4: The Crackdown  1987   \n",
       "3192      3747                                 Jesus' Son  1999   \n",
       "4068      4970         Blue Angel, The (Blaue Engel, Der)  1930   \n",
       "4674      6032                           A Little Romance  1979   \n",
       "4888      6436                            This Boy's Life  1993   \n",
       "5933      8930  Five Obstructions, The (Fem benspænd, De)  2003   \n",
       "6305     27674                                      11:14  2003   \n",
       "6379     30712                          The Narrow Margin  1952   \n",
       "6764     40574                     Get Rich or Die Tryin'  2005   \n",
       "7643     60293                               The Wackness  2008   \n",
       "8570     84775                                  Submarino  2010   \n",
       "9065     96829                         Hunt, The (Jagten)  2012   \n",
       "9586    111778                                     Tracks  2013   \n",
       "9646    113604                                  If I Stay  2014   \n",
       "10325   142420                                  High Rise  2015   \n",
       "10523   152017                              Me Before You  2016   \n",
       "10567   154013                             Lily Sometimes  2010   \n",
       "11391   197045                              Dealer/Healer  2017   \n",
       "\n",
       "                                                 sinopse  \n",
       "1517   This film tells the story of a successful writ...  \n",
       "2871   An African-American Mafia hit man who models h...  \n",
       "2947   After the death of his girlfriend's daughter f...  \n",
       "3192   A young man turns from drug addiction and pett...  \n",
       "4068   Prim professor Immanuel Rath finds some of his...  \n",
       "4674   A young American girl and a young French boy m...  \n",
       "4888   When a son and mother move to Seattle in hopes...  \n",
       "5933   Lars von Trier challenges his mentor, filmmake...  \n",
       "6305   Tells the seemingly random yet vitally connect...  \n",
       "6379   A tough cop meets his match when he has to gua...  \n",
       "6764   A tale of an inner city drug dealer who turns ...  \n",
       "7643   Set in New York City in the sweltering summer,...  \n",
       "8570   As children, Nick and his little brother take ...  \n",
       "9065   A teacher lives a lonely life, all the while s...  \n",
       "9586   A soldier returns from Vietnam on special assi...  \n",
       "9646   Mia Hall, a talented young cellist, thought th...  \n",
       "10325  Life for the residents of a tower block begins...  \n",
       "10523  A small town girl is caught between dead-end j...  \n",
       "10567  After the death of her mother, a woman returns...  \n",
       "11391  The movie is based on a true story about a rep...  "
      ]
     },
     "metadata": {},
     "output_type": "display_data"
    }
   ],
   "source": [
    "def recomendar_filmes(usuario:int):\n",
    "    filmes_vistos_pelo_usuario = get_filmes_usuario(usuario)['movieId'].to_list()\n",
    "    termos_usuario = criar_lista_termos_usuario(usuario)\n",
    "\n",
    "    vetor_usuario = criar_vetor_usuario(termos_usuario)\n",
    "    similaridades, filmes_similares = get_mais_similares(vetor_usuario)\n",
    "\n",
    "    print_destaque(\"Filmes do usuário \"+str(usuario))\n",
    "    display(get_filmes_usuario(usuario))\n",
    "    print_destaque(\"Texto do usuário \"+str(usuario))\n",
    "    print(criar_texto_usuario(termos_usuario)[:600])\n",
    "    recomendacoes = [filme for filme in filmes_similares if filme not in set(filmes_vistos_pelo_usuario)]\n",
    "    print()\n",
    "    print_destaque(f\"Recomendados, {len(recomendacoes)} filmes:\")\n",
    "\n",
    "    #print(filmes_similares[:100])\n",
    "    #print(recomendacoes[:100])\n",
    "    #print(\"todos que ele ja viu:\")\n",
    "    #print(ratings[ratings['userId']==usuario]['movieId'].to_list())\n",
    "    \n",
    "    display(sinopses[sinopses['movieId'].isin(recomendacoes[:20])][['movieId','titulo', 'ano', 'sinopse']])\n",
    "\n",
    "    # Excluir os filmes vistos das recomendações e retornar como recomendação e avaliar eficacia\n",
    "    \n",
    "recomendar_filmes(1)\n"
   ]
  },
  {
   "cell_type": "code",
   "execution_count": 895,
   "metadata": {},
   "outputs": [
    {
     "data": {
      "text/plain": [
       "(11473, 32233)"
      ]
     },
     "execution_count": 895,
     "metadata": {},
     "output_type": "execute_result"
    }
   ],
   "source": [
    "filmes_plano_vetor.shape"
   ]
  },
  {
   "cell_type": "code",
   "execution_count": 770,
   "metadata": {},
   "outputs": [
    {
     "name": "stdout",
     "output_type": "stream",
     "text": [
      "296.0 5.0\n",
      "307.0 5.0\n",
      "665.0 5.0\n",
      "1237.0 5.0\n",
      "2632.0 5.0\n",
      "2692.0 5.0\n",
      "3569.0 5.0\n",
      "3949.0 5.0\n",
      "4144.0 5.0\n",
      "4325.0 5.0\n"
     ]
    }
   ],
   "source": [
    "for a, b in usuarios[usuarios['userId']==1][['movieId','rating']].to_numpy():\n",
    "    print(a,b)"
   ]
  },
  {
   "cell_type": "code",
   "execution_count": null,
   "metadata": {},
   "outputs": [],
   "source": []
  },
  {
   "cell_type": "code",
   "execution_count": 893,
   "metadata": {},
   "outputs": [],
   "source": [
    "import numpy as np\n",
    "from sklearn.metrics import average_precision_score, ndcg_score\n",
    "\n",
    "def calcular_map(qt_usuarios = 200):\n",
    "    # |     | filme1| filme2| filme3| filme4| filme5| filme6\n",
    "    # |user1|\n",
    "    # |user2|\n",
    "    # |user3|\n",
    "    colunas_matriz_true = sinopses['movieId'].to_numpy()\n",
    "    linhas_matriz_true = usuarios['userId'].unique()[:(qt_usuarios)]\n",
    "    matriz_true_bin = np.zeros((len(linhas_matriz_true), len(colunas_matriz_true)))\n",
    "    matriz_true_real = np.zeros((len(linhas_matriz_true), len(colunas_matriz_true)))\n",
    "    matriz_score = np.zeros((len(linhas_matriz_true), len(colunas_matriz_true)))\n",
    "    matriz_assistidos = np.zeros(qt_usuarios)\n",
    "    linha = 0\n",
    "    for user in linhas_matriz_true:\n",
    "        for filme, nota in ratings[ratings['userId']==user][['movieId','rating']].to_numpy():\n",
    "            posicao_filme = np.where(colunas_matriz_true==filme)\n",
    "            matriz_true_bin[linha][posicao_filme] = 1\n",
    "            matriz_true_real[linha][posicao_filme] = nota\n",
    "            matriz_assistidos[linha] += 1\n",
    "        coluna = 0\n",
    "        vetor_user = criar_vetor_usuario(userId=user)\n",
    "        for filme in colunas_matriz_true:\n",
    "            matriz_score[linha][coluna] = 1 - spatial.distance.cosine(filmes_plano_vetor.getrow(coluna).toarray()[0], vetor_user.toarray()[0])\n",
    "            coluna += 1\n",
    "        linha += 1\n",
    "    metrica_map = []\n",
    "    for linha in range(len(linhas_matriz_true)):\n",
    "        metrica_map.append(average_precision_score(matriz_true_bin[linha], matriz_score[linha]))\n",
    "\n",
    "    return matriz_true_bin, matriz_score, metrica_map, matriz_assistidos, matriz_true_real\n",
    "\n",
    "matriz_true, matriz_score, metrica_map, matriz_assistidos, matriz_true_real = calcular_map()"
   ]
  },
  {
   "cell_type": "code",
   "execution_count": 894,
   "metadata": {},
   "outputs": [
    {
     "data": {
      "image/png": "[encoded data removed]",
      "text/plain": [
       "<Figure size 640x480 with 2 Axes>"
      ]
     },
     "metadata": {},
     "output_type": "display_data"
    },
    {
     "data": {
      "text/plain": [
       "0.637400558622027"
      ]
     },
     "execution_count": 894,
     "metadata": {},
     "output_type": "execute_result"
    }
   ],
   "source": [
    "import matplotlib.pyplot as plt\n",
    "# Initialise the subplot function using number of rows and columns\n",
    "figure, axis = plt.subplots(2)\n",
    "figure.tight_layout(pad=2)\n",
    "  \n",
    "maps = []\n",
    "for linha in range(len(matriz_score)):\n",
    "    maps.append(average_precision_score(matriz_true[linha], matriz_score[linha]))\n",
    "# Gráfico 1\n",
    "axis[0].plot(maps)\n",
    "axis[0].set_title(\"Métrica MAP (Mean Average Precision) por usuário\")\n",
    "  \n",
    "# Gráfico 2\n",
    "axis[1].bar(range(len(matriz_assistidos)), matriz_assistidos)\n",
    "axis[1].grid(color='green', linestyle='--', linewidth=0.7, axis='y', alpha=0.7)\n",
    "axis[1].set_title('Volume de notas dadas pelos usuários')\n",
    "axis[1].set_xlabel('Usuários')\n",
    "axis[1].set_ylabel('# filmes com nota')\n",
    "axis[1].axhline(100, color='green', linestyle='--', linewidth=0.7)\n",
    "  \n",
    "plt.show()\n",
    "ndcg_score(matriz_true,matriz_score, k=None, ignore_ties=True)"
   ]
  },
  {
   "cell_type": "code",
   "execution_count": 918,
   "metadata": {},
   "outputs": [
    {
     "data": {
      "text/html": [
       "<div>\n",
       "<style scoped>\n",
       "    .dataframe tbody tr th:only-of-type {\n",
       "        vertical-align: middle;\n",
       "    }\n",
       "\n",
       "    .dataframe tbody tr th {\n",
       "        vertical-align: top;\n",
       "    }\n",
       "\n",
       "    .dataframe thead th {\n",
       "        text-align: right;\n",
       "    }\n",
       "</style>\n",
       "<table border=\"1\" class=\"dataframe\">\n",
       "  <thead>\n",
       "    <tr style=\"text-align: right;\">\n",
       "      <th></th>\n",
       "      <th>userId</th>\n",
       "      <th>movieId</th>\n",
       "      <th>rating</th>\n",
       "    </tr>\n",
       "  </thead>\n",
       "  <tbody>\n",
       "    <tr>\n",
       "      <th>23901</th>\n",
       "      <td>187</td>\n",
       "      <td>47</td>\n",
       "      <td>5.0</td>\n",
       "    </tr>\n",
       "    <tr>\n",
       "      <th>23927</th>\n",
       "      <td>187</td>\n",
       "      <td>293</td>\n",
       "      <td>5.0</td>\n",
       "    </tr>\n",
       "    <tr>\n",
       "      <th>23932</th>\n",
       "      <td>187</td>\n",
       "      <td>344</td>\n",
       "      <td>5.0</td>\n",
       "    </tr>\n",
       "    <tr>\n",
       "      <th>23986</th>\n",
       "      <td>187</td>\n",
       "      <td>1136</td>\n",
       "      <td>5.0</td>\n",
       "    </tr>\n",
       "    <tr>\n",
       "      <th>23988</th>\n",
       "      <td>187</td>\n",
       "      <td>1194</td>\n",
       "      <td>5.0</td>\n",
       "    </tr>\n",
       "    <tr>\n",
       "      <th>...</th>\n",
       "      <td>...</td>\n",
       "      <td>...</td>\n",
       "      <td>...</td>\n",
       "    </tr>\n",
       "    <tr>\n",
       "      <th>25164</th>\n",
       "      <td>187</td>\n",
       "      <td>91104</td>\n",
       "      <td>1.5</td>\n",
       "    </tr>\n",
       "    <tr>\n",
       "      <th>25219</th>\n",
       "      <td>187</td>\n",
       "      <td>98203</td>\n",
       "      <td>1.5</td>\n",
       "    </tr>\n",
       "    <tr>\n",
       "      <th>24123</th>\n",
       "      <td>187</td>\n",
       "      <td>2555</td>\n",
       "      <td>1.0</td>\n",
       "    </tr>\n",
       "    <tr>\n",
       "      <th>24432</th>\n",
       "      <td>187</td>\n",
       "      <td>7846</td>\n",
       "      <td>1.0</td>\n",
       "    </tr>\n",
       "    <tr>\n",
       "      <th>24975</th>\n",
       "      <td>187</td>\n",
       "      <td>77665</td>\n",
       "      <td>1.0</td>\n",
       "    </tr>\n",
       "  </tbody>\n",
       "</table>\n",
       "<p>1381 rows × 3 columns</p>\n",
       "</div>"
      ],
      "text/plain": [
       "       userId  movieId  rating\n",
       "23901     187       47     5.0\n",
       "23927     187      293     5.0\n",
       "23932     187      344     5.0\n",
       "23986     187     1136     5.0\n",
       "23988     187     1194     5.0\n",
       "...       ...      ...     ...\n",
       "25164     187    91104     1.5\n",
       "25219     187    98203     1.5\n",
       "24123     187     2555     1.0\n",
       "24432     187     7846     1.0\n",
       "24975     187    77665     1.0\n",
       "\n",
       "[1381 rows x 3 columns]"
      ]
     },
     "execution_count": 918,
     "metadata": {},
     "output_type": "execute_result"
    }
   ],
   "source": [
    "ratings[ratings['userId']==187]\n"
   ]
  },
  {
   "cell_type": "code",
   "execution_count": 948,
   "metadata": {},
   "outputs": [
    {
     "name": "stdout",
     "output_type": "stream",
     "text": [
      "sir\n",
      "truman\n",
      "garfield\n",
      "léon\n",
      "archaeologist\n",
      "indiana\n",
      "mathilda\n",
      "eyeball\n",
      "isolation\n",
      "jones\n",
      "descends\n",
      "star\n",
      "dolphins\n",
      "rock\n",
      "footsteps\n",
      "physical\n",
      "madness\n",
      "midst\n",
      "arthur\n",
      "entire\n",
      "anthony\n",
      "pedro\n",
      "covenant\n",
      "tweed\n",
      "miami\n",
      "dr\n",
      "troubled\n",
      "life\n",
      "social\n",
      "lancelot\n",
      "suited\n",
      "ark\n",
      "teacher\n",
      "missing\n",
      "schneider\n",
      "sallah\n",
      "burbank\n",
      "unending\n",
      "lawsuits\n",
      "stabbing\n",
      "killer\n",
      "sr\n",
      "regime\n",
      "locate\n",
      "brave\n",
      "researches\n",
      "sommerset\n",
      "case\n",
      "brody\n",
      "grail\n",
      "eminent\n",
      "celebrated\n",
      "consumption\n",
      "broadcasts\n",
      "classrooms\n",
      "scoffs\n",
      "elsa\n",
      "custodian\n",
      "rep\n",
      "including\n",
      "aspect\n",
      "det\n",
      "goes\n",
      "resumes\n",
      "man\n",
      "soap\n",
      "substitute\n",
      "sins\n",
      "administration\n",
      "trevor\n",
      "wows\n",
      "marino\n",
      "carrey\n",
      "york\n",
      "holy\n",
      "marcus\n",
      "recovering\n",
      "mills\n",
      "novice\n",
      "sin\n",
      "pursuing\n",
      "ventura\n",
      "afraid\n",
      "happens\n",
      "bullies\n",
      "earned\n",
      "eternal\n",
      "nazi\n",
      "cannon\n",
      "24\n",
      "woos\n",
      "education\n",
      "earache\n",
      "ingesting\n",
      "pacas\n",
      "tortured\n",
      "viewers\n",
      "dea\n",
      "mascot\n",
      "effective\n",
      "hired\n",
      "nazis\n",
      "paid\n",
      "cleaner\n",
      "technicality\n",
      "professor\n",
      "teaching\n",
      "homicide\n",
      "haunting\n",
      "hour\n",
      "quarterback\n",
      "considers\n",
      "unwilling\n",
      "wiped\n",
      "seasoned\n",
      "drives\n",
      "ditches\n",
      "knowledge\n",
      "legendary\n",
      "opera\n",
      "detectives\n",
      "tune\n",
      "mad\n",
      "surviving\n",
      "stoner\n",
      "ace\n",
      "thoughts\n",
      "raucous\n",
      "government\n",
      "underwater\n",
      "kindred\n",
      "henry\n",
      "unravel\n",
      "efforts\n",
      "slowly\n",
      "beast\n",
      "crimes\n",
      "galahad\n",
      "bedevere\n",
      "rest\n",
      "effort\n",
      "dan\n",
      "drummer\n",
      "eating\n",
      "smoking\n",
      "neighbors\n",
      "tv\n",
      "ladies\n",
      "knows\n",
      "allowing\n",
      "shark\n",
      "chopped\n",
      "marijuana\n",
      "pot\n",
      "misadventures\n",
      "remains\n",
      "follow\n",
      "actor\n",
      "slacker\n",
      "stakes\n",
      "loose\n",
      "victim\n",
      "pet\n",
      "amateur\n",
      "really\n",
      "squire\n",
      "new\n",
      "hunt\n",
      "possession\n",
      "seven\n",
      "reality\n",
      "silly\n",
      "contest\n",
      "12\n",
      "suddenly\n",
      "mind\n",
      "serial\n",
      "inside\n",
      "strict\n",
      "just\n",
      "limbs\n",
      "camelot\n",
      "violent\n",
      "door\n",
      "power\n",
      "perform\n",
      "partner\n",
      "desperate\n",
      "compete\n",
      "control\n",
      "hits\n",
      "jim\n",
      "moves\n",
      "unemployed\n",
      "continue\n",
      "arrested\n",
      "angeles\n",
      "los\n",
      "deadly\n",
      "duo\n",
      "knights\n",
      "stop\n",
      "undercover\n",
      "insists\n",
      "dark\n",
      "round\n",
      "student\n",
      "following\n",
      "hit\n",
      "team\n",
      "pure\n",
      "meeting\n",
      "ultimately\n",
      "finds\n",
      "released\n",
      "table\n",
      "knight\n",
      "eye\n",
      "revenge\n",
      "spirit\n",
      "based\n",
      "accompanied\n",
      "best\n",
      "battles\n",
      "wise\n",
      "robin\n",
      "detective\n",
      "day\n",
      "recruits\n",
      "agent\n",
      "turn\n",
      "road\n",
      "friend\n",
      "eventually\n",
      "reach\n",
      "quite\n",
      "enter\n",
      "long\n",
      "band\n",
      "wife\n",
      "drug\n",
      "father\n",
      "takes\n",
      "parents\n",
      "film\n",
      "gets\n",
      "despite\n",
      "year\n",
      "world\n",
      "king\n",
      "black\n",
      "having\n",
      "soon\n",
      "old\n",
      "place\n",
      "fight\n",
      "decides\n",
      "way\n"
     ]
    }
   ],
   "source": [
    "for a, b in criar_lista_termos_usuario(187):\n",
    "    print(a)"
   ]
  },
  {
   "cell_type": "code",
   "execution_count": 949,
   "metadata": {},
   "outputs": [
    {
     "data": {
      "text/plain": [
       "numpy.ndarray"
      ]
     },
     "execution_count": 949,
     "metadata": {},
     "output_type": "execute_result"
    }
   ],
   "source": [
    "type(termos)"
   ]
  },
  {
   "cell_type": "code",
   "execution_count": 952,
   "metadata": {},
   "outputs": [
    {
     "name": "stdout",
     "output_type": "stream",
     "text": [
      "[[0.         0.13842508 0.         ... 0.         0.         0.        ]\n",
      " [0.         0.         0.         ... 0.         0.         0.        ]\n",
      " [0.         0.         0.         ... 0.         0.         0.        ]\n",
      " ...\n",
      " [0.         0.         0.         ... 0.         0.         0.        ]\n",
      " [0.         0.         0.         ... 0.         0.         0.        ]\n",
      " [0.         0.         0.         ... 0.         0.         0.        ]]\n"
     ]
    }
   ],
   "source": [
    "def criar_matrix_usuario_termos(n_users=100):\n",
    "    matriz_usuarios = usuarios['userId'].unique()[:n_users]\n",
    "    matriz = np.zeros((n_users,qtd_termos))\n",
    "    linha = 0\n",
    "    for usuario in matriz_usuarios:\n",
    "        for termo, score in criar_lista_termos_usuario(usuario):\n",
    "            matriz[linha][np.where(termos==termo)] = score\n",
    "        linha += 1\n",
    "        \n",
    "    print(matriz)\n",
    "\n",
    "criar_matrix_usuario_termos()"
   ]
  },
  {
   "cell_type": "code",
   "execution_count": 880,
   "metadata": {},
   "outputs": [],
   "source": [
    "matriz_true_ndcg = ratings[:13247].groupby(['userId', 'movieId'])['rating'].first().unstack(fill_value=0.0)"
   ]
  },
  {
   "cell_type": "code",
   "execution_count": 885,
   "metadata": {},
   "outputs": [
    {
     "data": {
      "text/plain": [
       "(50, 5743)"
      ]
     },
     "execution_count": 885,
     "metadata": {},
     "output_type": "execute_result"
    }
   ],
   "source": [
    "matriz_true_ndcg[:50].shape\n",
    "\n",
    "#ndcg_score(matriz_true_ndcg[:50],matriz_score[:50], k=None, ignore_ties=True)"
   ]
  },
  {
   "cell_type": "code",
   "execution_count": 558,
   "metadata": {},
   "outputs": [
    {
     "data": {
      "image/png": "[encoded data removed]",
      "text/plain": [
       "<Figure size 640x480 with 1 Axes>"
      ]
     },
     "metadata": {},
     "output_type": "display_data"
    }
   ],
   "source": [
    "for i in range(10):\n",
    "    plt.plot(get_mais_similares(criar_vetor_usuario(userId=i+1)))"
   ]
  },
  {
   "cell_type": "code",
   "execution_count": 389,
   "metadata": {},
   "outputs": [
    {
     "data": {
      "text/plain": [
       "(32233,)"
      ]
     },
     "execution_count": 389,
     "metadata": {},
     "output_type": "execute_result"
    }
   ],
   "source": [
    "jumanji_vetor = filmes_plano_vetor.getrow(1).toarray()[0]\n",
    "jumanji_vetor.shape"
   ]
  },
  {
   "cell_type": "code",
   "execution_count": 262,
   "metadata": {},
   "outputs": [
    {
     "data": {
      "text/plain": [
       "<AxesSubplot: >"
      ]
     },
     "execution_count": 262,
     "metadata": {},
     "output_type": "execute_result"
    },
    {
     "data": {
      "image/png": "[encoded data removed]",
      "text/plain": [
       "<Figure size 640x480 with 1 Axes>"
      ]
     },
     "metadata": {},
     "output_type": "display_data"
    }
   ],
   "source": [
    "import matplotlib.pyplot as plt\n",
    "df_jumanji = pd.Series(filmes_plano_vetor.getrow(1).toarray()[0])\n",
    "df_jumanji.plot(grid=True)\n"
   ]
  },
  {
   "cell_type": "code",
   "execution_count": 173,
   "metadata": {},
   "outputs": [
    {
     "name": "stdout",
     "output_type": "stream",
     "text": [
      "  (0, 6787)\t0.15159061378348856\n",
      "  (0, 28798)\t0.1458248427323612\n",
      "  (0, 19044)\t0.22113314034252377\n",
      "  (0, 9985)\t0.11548624218505435\n",
      "  (0, 24337)\t0.23082711547870105\n",
      "  (0, 11953)\t0.14723161814365107\n",
      "  (0, 24882)\t0.14482155072389796\n",
      "  (0, 24476)\t0.1796618049159662\n",
      "  (0, 22750)\t0.149510321032683\n",
      "  (0, 10821)\t0.16308984496259096\n",
      "  (0, 11361)\t0.14911513377999672\n",
      "  (0, 13666)\t0.13102467725669734\n",
      "  (0, 17043)\t0.10700681304116957\n",
      "  (0, 31971)\t0.08887081099968128\n",
      "  (0, 309)\t0.18798922043577326\n",
      "  (0, 14676)\t0.13753764300747384\n",
      "  (0, 29508)\t0.14118290551287593\n",
      "  (0, 824)\t0.15247620704293594\n",
      "  (0, 1081)\t0.3372025403268375\n",
      "  (0, 14969)\t0.18798922043577326\n",
      "  (0, 30402)\t0.15980960152361037\n",
      "  (0, 31773)\t0.0785951981738867\n",
      "  (0, 17548)\t0.14090327326736624\n",
      "  (0, 8622)\t0.14482155072389796\n",
      "  (0, 20445)\t0.16106822287789738\n",
      "  (0, 11655)\t0.37383283667850203\n",
      "  (0, 3516)\t0.1574752332207415\n",
      "  (0, 9507)\t0.178295245299596\n",
      "  (0, 8232)\t0.11646622709326751\n",
      "  (0, 21560)\t0.1435461398433293\n",
      "  (0, 15542)\t0.18607553661316287\n",
      "  (0, 26252)\t0.1645392756652\n",
      "  (0, 24687)\t0.1429330733184274\n"
     ]
    }
   ],
   "source": [
    "print(filmes_plano_vetor.getrow(1))"
   ]
  },
  {
   "cell_type": "code",
   "execution_count": 734,
   "metadata": {},
   "outputs": [
    {
     "name": "stdout",
     "output_type": "stream",
     "text": [
      "map: 0.8333333333333333\n"
     ]
    }
   ],
   "source": [
    "from sklearn.metrics import average_precision_score, ndcg_score\n",
    "\n",
    "y_true = [0, 0, 1, 1]\n",
    "y_score = [0.1, 0.4, 0.35, 0.8]\n",
    "\n",
    "map = average_precision_score(y_true, y_score)\n",
    "\n",
    "print(\"map:\", map)\n"
   ]
  },
  {
   "cell_type": "code",
   "execution_count": 729,
   "metadata": {},
   "outputs": [
    {
     "data": {
      "text/plain": [
       "0.3333333333333333"
      ]
     },
     "execution_count": 729,
     "metadata": {},
     "output_type": "execute_result"
    }
   ],
   "source": [
    "map"
   ]
  },
  {
   "cell_type": "code",
   "execution_count": 731,
   "metadata": {},
   "outputs": [
    {
     "ename": "ValueError",
     "evalue": "Only ('multilabel-indicator', 'continuous-multioutput', 'multiclass-multioutput') formats are supported. Got binary instead",
     "output_type": "error",
     "traceback": [
      "\u001b[1;31m---------------------------------------------------------------------------\u001b[0m",
      "\u001b[1;31mValueError\u001b[0m                                Traceback (most recent call last)",
      "Cell \u001b[1;32mIn[731], line 6\u001b[0m\n\u001b[0;32m      3\u001b[0m y_true \u001b[39m=\u001b[39m [\u001b[39m0\u001b[39m, \u001b[39m0\u001b[39m, \u001b[39m1\u001b[39m, \u001b[39m1\u001b[39m]\n\u001b[0;32m      4\u001b[0m y_score \u001b[39m=\u001b[39m [\u001b[39m0.1\u001b[39m, \u001b[39m0.4\u001b[39m, \u001b[39m0.35\u001b[39m, \u001b[39m0.8\u001b[39m]\n\u001b[1;32m----> 6\u001b[0m ndcg \u001b[39m=\u001b[39m ndcg_score(y_true, y_score)\n",
      "File \u001b[1;32m~\\AppData\\Roaming\\Python\\Python311\\site-packages\\sklearn\\metrics\\_ranking.py:1663\u001b[0m, in \u001b[0;36mndcg_score\u001b[1;34m(y_true, y_score, k, sample_weight, ignore_ties)\u001b[0m\n\u001b[0;32m   1656\u001b[0m \u001b[39mif\u001b[39;00m y_true\u001b[39m.\u001b[39mmin() \u001b[39m<\u001b[39m \u001b[39m0\u001b[39m:\n\u001b[0;32m   1657\u001b[0m     \u001b[39m# TODO(1.4): Replace warning w/ ValueError\u001b[39;00m\n\u001b[0;32m   1658\u001b[0m     warnings\u001b[39m.\u001b[39mwarn(\n\u001b[0;32m   1659\u001b[0m         \u001b[39m\"\u001b[39m\u001b[39mndcg_score should not be used on negative y_true values. ndcg_score will\u001b[39m\u001b[39m\"\u001b[39m\n\u001b[0;32m   1660\u001b[0m         \u001b[39m\"\u001b[39m\u001b[39m raise a ValueError on negative y_true values starting from version 1.4.\u001b[39m\u001b[39m\"\u001b[39m,\n\u001b[0;32m   1661\u001b[0m         \u001b[39mFutureWarning\u001b[39;00m,\n\u001b[0;32m   1662\u001b[0m     )\n\u001b[1;32m-> 1663\u001b[0m _check_dcg_target_type(y_true)\n\u001b[0;32m   1664\u001b[0m gain \u001b[39m=\u001b[39m _ndcg_sample_scores(y_true, y_score, k\u001b[39m=\u001b[39mk, ignore_ties\u001b[39m=\u001b[39mignore_ties)\n\u001b[0;32m   1665\u001b[0m \u001b[39mreturn\u001b[39;00m np\u001b[39m.\u001b[39maverage(gain, weights\u001b[39m=\u001b[39msample_weight)\n",
      "File \u001b[1;32m~\\AppData\\Roaming\\Python\\Python311\\site-packages\\sklearn\\metrics\\_ranking.py:1390\u001b[0m, in \u001b[0;36m_check_dcg_target_type\u001b[1;34m(y_true)\u001b[0m\n\u001b[0;32m   1384\u001b[0m supported_fmt \u001b[39m=\u001b[39m (\n\u001b[0;32m   1385\u001b[0m     \u001b[39m\"\u001b[39m\u001b[39mmultilabel-indicator\u001b[39m\u001b[39m\"\u001b[39m,\n\u001b[0;32m   1386\u001b[0m     \u001b[39m\"\u001b[39m\u001b[39mcontinuous-multioutput\u001b[39m\u001b[39m\"\u001b[39m,\n\u001b[0;32m   1387\u001b[0m     \u001b[39m\"\u001b[39m\u001b[39mmulticlass-multioutput\u001b[39m\u001b[39m\"\u001b[39m,\n\u001b[0;32m   1388\u001b[0m )\n\u001b[0;32m   1389\u001b[0m \u001b[39mif\u001b[39;00m y_type \u001b[39mnot\u001b[39;00m \u001b[39min\u001b[39;00m supported_fmt:\n\u001b[1;32m-> 1390\u001b[0m     \u001b[39mraise\u001b[39;00m \u001b[39mValueError\u001b[39;00m(\n\u001b[0;32m   1391\u001b[0m         \u001b[39m\"\u001b[39m\u001b[39mOnly \u001b[39m\u001b[39m{}\u001b[39;00m\u001b[39m formats are supported. Got \u001b[39m\u001b[39m{}\u001b[39;00m\u001b[39m instead\u001b[39m\u001b[39m\"\u001b[39m\u001b[39m.\u001b[39mformat(\n\u001b[0;32m   1392\u001b[0m             supported_fmt, y_type\n\u001b[0;32m   1393\u001b[0m         )\n\u001b[0;32m   1394\u001b[0m     )\n",
      "\u001b[1;31mValueError\u001b[0m: Only ('multilabel-indicator', 'continuous-multioutput', 'multiclass-multioutput') formats are supported. Got binary instead"
     ]
    }
   ],
   "source": [
    "from sklearn.metrics import ndcg_score\n",
    "\n",
    "y_true = [0, 0, 1, 1]\n",
    "y_score = [0.1, 0.4, 0.35, 0.8]\n",
    "\n",
    "ndcg = ndcg_score(y_true, y_score)"
   ]
  }
 ],
 "metadata": {
  "kernelspec": {
   "display_name": "Python 3",
   "language": "python",
   "name": "python3"
  },
  "language_info": {
   "codemirror_mode": {
    "name": "ipython",
    "version": 3
   },
   "file_extension": ".py",
   "mimetype": "text/x-python",
   "name": "python",
   "nbconvert_exporter": "python",
   "pygments_lexer": "ipython3",
   "version": "3.11.1 (tags/v3.11.1:a7a450f, Dec  6 2022, 19:58:39) [MSC v.1934 64 bit (AMD64)]"
  },
  "orig_nbformat": 4,
  "vscode": {
   "interpreter": {
    "hash": "e2de187e2ac018b1966125b89a9965710f2e135e980700bc64d2907d990fa000"
   }
  }
 },
 "nbformat": 4,
 "nbformat_minor": 2
}
